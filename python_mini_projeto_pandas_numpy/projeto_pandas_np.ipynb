{
  "cells": [
    {
      "cell_type": "code",
      "execution_count": null,
      "metadata": {},
      "outputs": [],
      "source": [
        "import pandas as pd\n",
        "import numpy as np\n"
      ]
    },
    {
      "cell_type": "code",
      "execution_count": null,
      "metadata": {},
      "outputs": [],
      "source": [
        "df_vendas = pd.read_csv(\"/content/vendas.csv\")\n"
      ]
    },
    {
      "cell_type": "code",
      "execution_count": null,
      "metadata": {},
      "outputs": [],
      "source": [
        "#Primeiras linhas\n",
        "df_vendas.head()\n"
      ]
    },
    {
      "cell_type": "code",
      "execution_count": null,
      "metadata": {},
      "outputs": [],
      "source": [
        "#Últimas linhas\n",
        "df_vendas.tail()\n"
      ]
    },
    {
      "cell_type": "code",
      "execution_count": null,
      "metadata": {},
      "outputs": [],
      "source": [
        "#Verificando informações gerais do DF\n",
        "df_vendas.info()\n"
      ]
    },
    {
      "cell_type": "code",
      "execution_count": null,
      "metadata": {},
      "outputs": [],
      "source": [
        "df_vendas.describe()\n"
      ]
    },
    {
      "cell_type": "code",
      "execution_count": null,
      "metadata": {},
      "outputs": [],
      "source": [
        "#Criar uma coluna chamada Receita Total (Quantidade * Preco_unitário)\n",
        "df_vendas[\"Receita_Total\"] = df_vendas[\"Quantidade\"] * df_vendas[\"Preco_Unitario\"]\n",
        "df_vendas.head()\n"
      ]
    },
    {
      "cell_type": "code",
      "execution_count": null,
      "metadata": {},
      "outputs": [],
      "source": [
        "#Selecionar apenas as colunas Produto e Receita Total\n",
        "df_vendas[[\"Produto\", \"Receita_Total\"]].head()\n"
      ]
    },
    {
      "cell_type": "code",
      "execution_count": null,
      "metadata": {},
      "outputs": [],
      "source": [
        "#Linhas onde a quantidade é maior que 20\n",
        "df_vendas[df_vendas[\"Quantidade\"] > 20].head()\n"
      ]
    },
    {
      "cell_type": "code",
      "execution_count": null,
      "metadata": {},
      "outputs": [],
      "source": [
        "#loc (selecionar linhas e colunas por rótulo (Produto = 'Monitor'))\n",
        "\n",
        "df_vendas.loc[df_vendas[\"Produto\"] == \"Monitor\", [\"ID_Venda\", \"Quantidade\", \"Preco_Unitario\"]].head()\n"
      ]
    },
    {
      "cell_type": "code",
      "execution_count": null,
      "metadata": {},
      "outputs": [],
      "source": [
        "#Selecionar as primeiras 3 linhas e as colunas de 1 a 3\n",
        "df_vendas.iloc[0:3, 1:4]\n"
      ]
    },
    {
      "cell_type": "code",
      "execution_count": null,
      "metadata": {},
      "outputs": [],
      "source": [
        "#Cálculos (Pandas e Numpy)\n",
        "#Descobrir o faturamento (Receita Total)\n",
        "print(f\"Receita Total de Vendas da Loja: {df_vendas['Receita_Total'].sum():.2f}\")\n"
      ]
    },
    {
      "cell_type": "code",
      "execution_count": null,
      "metadata": {},
      "outputs": [],
      "source": [
        "#Preço médio unitário dos produtos\n",
        "print(f\"O preço médio unitário dos produtos é: {df_vendas['Preco_Unitario'].mean():.2f}\")\n"
      ]
    },
    {
      "cell_type": "code",
      "execution_count": null,
      "metadata": {},
      "outputs": [],
      "source": [
        "#Quantidade mínima e máxima de produtos vendidos\n",
        "print(f\"Quantidade mínima de produtos vendidos: {df_vendas['Quantidade'].min()}\")\n",
        "print(f\"Quantidade máximo de produtos vendidos: {df_vendas['Quantidade'].max()}\")\n"
      ]
    }
  ],
  "metadata": {
    "language_info": {
      "name": "python"
    }
  },
  "nbformat": 4,
  "nbformat_minor": 2
}
