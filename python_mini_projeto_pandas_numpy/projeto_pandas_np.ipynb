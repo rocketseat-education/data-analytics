{
 "cells": [
  {
   "cell_type": "code",
   "execution_count": null,
   "id": "38fc7b13",
   "metadata": {},
   "outputs": [],
   "source": [
    "import pandas as pd\n",
    "import numpy as np\n"
   ]
  },
  {
   "cell_type": "code",
   "execution_count": null,
   "id": "1568154e",
   "metadata": {},
   "outputs": [],
   "source": [
    "df_vendas = pd.read_csv(\"/content/vendas.csv\")\n"
   ]
  },
  {
   "cell_type": "code",
   "execution_count": null,
   "id": "38cf6165",
   "metadata": {},
   "outputs": [],
   "source": [
    "#Primeiras linhas\n",
    "df_vendas.head()\n"
   ]
  },
  {
   "cell_type": "code",
   "execution_count": null,
   "id": "44b39153",
   "metadata": {},
   "outputs": [],
   "source": [
    "#Últimas linhas\n",
    "df_vendas.tail()\n"
   ]
  },
  {
   "cell_type": "code",
   "execution_count": null,
   "id": "a65f1d09",
   "metadata": {},
   "outputs": [],
   "source": [
    "#Verificando informações gerais do DF\n",
    "df_vendas.info()\n"
   ]
  },
  {
   "cell_type": "code",
   "execution_count": null,
   "id": "96f7ca6d",
   "metadata": {},
   "outputs": [],
   "source": [
    "df_vendas.describe()\n"
   ]
  },
  {
   "cell_type": "markdown",
   "id": "0b2a520e",
   "metadata": {},
   "source": [
    "\n"
   ]
  },
  {
   "cell_type": "code",
   "execution_count": null,
   "id": "61a08641",
   "metadata": {},
   "outputs": [],
   "source": [
    "\n"
   ]
  }
 ],
 "metadata": {
  "language_info": {
   "name": "python"
  }
 },
 "nbformat": 4,
 "nbformat_minor": 5
}
