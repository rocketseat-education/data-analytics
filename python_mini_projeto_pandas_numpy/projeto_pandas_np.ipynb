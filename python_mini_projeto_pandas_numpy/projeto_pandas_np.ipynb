{
  "cells": [
    {
      "cell_type": "code",
      "execution_count": null,
      "metadata": {},
      "outputs": [],
      "source": [
        "import pandas as pd\n",
        "import numpy as np\n"
      ]
    },
    {
      "cell_type": "code",
      "execution_count": null,
      "metadata": {},
      "outputs": [],
      "source": [
        "df_vendas = pd.read_csv(\"/content/vendas.csv\")\n"
      ]
    },
    {
      "cell_type": "code",
      "execution_count": null,
      "metadata": {},
      "outputs": [],
      "source": [
        "#Primeiras linhas\n",
        "df_vendas.head()\n"
      ]
    },
    {
      "cell_type": "code",
      "execution_count": null,
      "metadata": {},
      "outputs": [],
      "source": [
        "#Últimas linhas\n",
        "df_vendas.tail()\n"
      ]
    },
    {
      "cell_type": "code",
      "execution_count": null,
      "metadata": {},
      "outputs": [],
      "source": [
        "#Verificando informações gerais do DF\n",
        "df_vendas.info()\n"
      ]
    },
    {
      "cell_type": "code",
      "execution_count": null,
      "metadata": {},
      "outputs": [],
      "source": [
        "df_vendas.describe()\n"
      ]
    },
    {
      "cell_type": "code",
      "execution_count": null,
      "metadata": {},
      "outputs": [],
      "source": [
        "#Criar uma coluna chamada Receita Total (Quantidade * Preco_unitário)\n",
        "df_vendas[\"Receita_Total\"] = df_vendas[\"Quantidade\"] * df_vendas[\"Preco_Unitario\"]\n",
        "df_vendas.head()\n"
      ]
    },
    {
      "cell_type": "code",
      "execution_count": null,
      "metadata": {},
      "outputs": [],
      "source": [
        "#Selecionar apenas as colunas Produto e Receita Total\n",
        "df_vendas[[\"Produto\", \"Receita_Total\"]].head()\n"
      ]
    },
    {
      "cell_type": "code",
      "execution_count": null,
      "metadata": {},
      "outputs": [],
      "source": [
        "#Linhas onde a quantidade é maior que 20\n",
        "df_vendas[df_vendas[\"Quantidade\"] > 20].head()\n"
      ]
    },
    {
      "cell_type": "code",
      "execution_count": null,
      "metadata": {},
      "outputs": [],
      "source": [
        "#loc (selecionar linhas e colunas por rótulo (Produto = 'Monitor'))\n",
        "\n",
        "df_vendas.loc[df_vendas[\"Produto\"] == \"Monitor\", [\"ID_Venda\", \"Quantidade\", \"Preco_Unitario\"]].head()\n"
      ]
    },
    {
      "cell_type": "code",
      "execution_count": null,
      "metadata": {},
      "outputs": [],
      "source": [
        "#Selecionar as primeiras 3 linhas e as colunas de 1 a 3\n",
        "df_vendas.iloc[0:3, 1:4]\n"
      ]
    },
    {
      "cell_type": "code",
      "execution_count": null,
      "metadata": {},
      "outputs": [],
      "source": [
        "#Cálculos (Pandas e Numpy)\n",
        "#Descobrir o faturamento (Receita Total)\n",
        "print(f\"Receita Total de Vendas da Loja: {df_vendas['Receita_Total'].sum():.2f}\")\n"
      ]
    },
    {
      "cell_type": "code",
      "execution_count": null,
      "metadata": {},
      "outputs": [],
      "source": [
        "#Preço médio unitário dos produtos\n",
        "print(f\"O preço médio unitário dos produtos é: {df_vendas['Preco_Unitario'].mean():.2f}\")\n"
      ]
    },
    {
      "cell_type": "code",
      "execution_count": null,
      "metadata": {},
      "outputs": [],
      "source": [
        "#Quantidade mínima e máxima de produtos vendidos\n",
        "print(f\"Quantidade mínima de produtos vendidos: {df_vendas['Quantidade'].min()}\")\n",
        "print(f\"Quantidade máximo de produtos vendidos: {df_vendas['Quantidade'].max()}\")\n"
      ]
    },
    {
      "cell_type": "code",
      "execution_count": null,
      "metadata": {},
      "outputs": [],
      "source": [
        "df_vendas.head()"
      ]
    },
    {
      "cell_type": "code",
      "execution_count": null,
      "metadata": {},
      "outputs": [],
      "source": [
        "# Simular valores ausentes dentro do DF\n",
        "df_vendas_com_nan = df_vendas.copy()\n",
        "df_vendas_com_nan.loc[df_vendas_com_nan.sample(frac=0.05).index, 'Preco_Unitario'] = np.nan\n",
        "df_vendas_com_nan.loc[df_vendas_com_nan.sample(frac=0.03).index, 'Quantidade'] = np.nan\n",
        "\n"
      ]
    },
    {
      "cell_type": "code",
      "execution_count": null,
      "metadata": {},
      "outputs": [],
      "source": [
        "# Verificar se existe valores ausentes\n",
        "df_vendas_com_nan.info()\n"
      ]
    },
    {
      "cell_type": "code",
      "execution_count": null,
      "metadata": {},
      "outputs": [],
      "source": [
        "# Verificar se existe valores ausentes\n",
        "df_vendas_com_nan.isna().sum()\n"
      ]
    },
    {
      "cell_type": "code",
      "execution_count": null,
      "metadata": {},
      "outputs": [],
      "source": [
        "# Preencher com a média os valores nulos da coluna Quantidade (fillna)\n",
        "df_vendas_preenchido = df_vendas_com_nan.copy()\n",
        "media_qtd = df_vendas_preenchido['Quantidade'].mean()\n",
        "df_vendas_preenchido['Quantidade'] = df_vendas_preenchido['Quantidade'].fillna(media_qtd)\n",
        "\n"
      ]
    },
    {
      "cell_type": "code",
      "execution_count": null,
      "metadata": {},
      "outputs": [],
      "source": [
        "df_vendas_preenchido.info()\n"
      ]
    },
    {
      "cell_type": "code",
      "execution_count": null,
      "metadata": {},
      "outputs": [],
      "source": [
        "# Remover os valores ausentes encontrados em Preço Unitário\n",
        "df_vendas_limpo = df_vendas_preenchido.dropna(subset=['Preco_Unitario'])\n",
        "\n"
      ]
    },
    {
      "cell_type": "code",
      "execution_count": null,
      "metadata": {},
      "outputs": [],
      "source": [
        "df_vendas_limpo.info()\n"
      ]
    },
    {
      "cell_type": "code",
      "execution_count": null,
      "metadata": {},
      "outputs": [],
      "source": [
        "df_vendas_limpo.head()\n"
      ]
    },
    {
      "cell_type": "code",
      "execution_count": null,
      "metadata": {},
      "outputs": [],
      "source": [
        "# Agrupar por produtos e calcular quantidade e receita total\n",
        "vendas_por_produto = df_vendas_limpo.groupby(\"Produto\").agg(\n",
        "    Quantidade_total=(\"Quantidade\", \"sum\"),\n",
        "    Receita_Total=(\"Receita_Total\", \"sum\")\n",
        ").reset_index()\n",
        "\n"
      ]
    },
    {
      "cell_type": "code",
      "execution_count": null,
      "metadata": {},
      "outputs": [],
      "source": [
        "print(vendas_por_produto)\n"
      ]
    },
    {
      "cell_type": "code",
      "execution_count": null,
      "metadata": {},
      "outputs": [],
      "source": [
        "# Ordenar os valores por quantidade total para saber o produto mais vendido\n",
        "produto_mais_vendido = vendas_por_produto.sort_values(by=\"Quantidade_total\", ascending=False).iloc[0]\n",
        "\n"
      ]
    },
    {
      "cell_type": "code",
      "execution_count": null,
      "metadata": {},
      "outputs": [],
      "source": [
        "print(produto_mais_vendido)\n"
      ]
    },
    {
      "cell_type": "code",
      "execution_count": null,
      "metadata": {},
      "outputs": [],
      "source": [
        "# Ordenar os valores por receita total para saber o maior valor total gerado\n",
        "produto_maior_receita = vendas_por_produto.sort_values(by=\"Receita_Total\", ascending=False).iloc[0]\n",
        "\n"
      ]
    },
    {
      "cell_type": "code",
      "execution_count": null,
      "metadata": {},
      "outputs": [],
      "source": [
        "print(produto_maior_receita)\n"
      ]
    },
    {
      "cell_type": "code",
      "execution_count": null,
      "metadata": {},
      "outputs": [],
      "source": [
        "df_produtos = pd.read_csv(\"content/produtos.csv\")\n"
      ]
    },
    {
      "cell_type": "code",
      "execution_count": null,
      "metadata": {},
      "outputs": [],
      "source": [
        "df_produtos.head()\n"
      ]
    },
    {
      "cell_type": "code",
      "execution_count": null,
      "metadata": {},
      "outputs": [],
      "source": [
        "df_vendas_limpo.head()\n"
      ]
    },
    {
      "cell_type": "code",
      "execution_count": null,
      "metadata": {},
      "outputs": [],
      "source": [
        "df_vendas_limpo.info()\n"
      ]
    },
    {
      "cell_type": "code",
      "execution_count": null,
      "metadata": {},
      "outputs": [],
      "source": [
        "# Converter a coluna Data_Venda para o tipo correto de data\n",
        "df_vendas_limpo[\"Data_Venda\"] = pd.to_datetime(df_vendas_limpo[\"Data_Venda\"])\n"
      ]
    },
    {
      "cell_type": "code",
      "execution_count": null,
      "metadata": {},
      "outputs": [],
      "source": [
        "df_vendas_limpo.info()\n"
      ]
    },
    {
      "cell_type": "code",
      "execution_count": null,
      "metadata": {},
      "outputs": [],
      "source": [
        "# Analisar as vendas por mês\n",
        "df_vendas_limpo[\"Mes_Venda\"] = df_vendas_limpo[\"Data_Venda\"].dt.month\n"
      ]
    },
    {
      "cell_type": "code",
      "execution_count": null,
      "metadata": {},
      "outputs": [],
      "source": [
        "# Agrupar por mês para calcular a receita total mês a mês\n",
        "vendas_por_mes = df_vendas_limpo.groupby(\"Mes_Venda\")[\"Receita_Total\"].sum().reset_index()\n",
        "print(\"\\nVendas por mês\")\n",
        "print(vendas_por_mes)\n"
      ]
    },
    {
      "cell_type": "code",
      "execution_count": null,
      "metadata": {},
      "outputs": [],
      "source": [
        "df_merge = pd.merge(df_vendas_limpo, df_produtos, on='Produto', how='left')\n",
        "print(df_merge)\n"
      ]
    },
    {
      "cell_type": "code",
      "execution_count": null,
      "metadata": {},
      "outputs": [],
      "source": [
        "# Análise de vendas por categoria (Receita Total por categoria)\n",
        "vendas_por_categoria = df_merge.groupby(\"Categoria\")[\"Receita_Total\"].sum().reset_index()\n",
        "print(vendas_por_categoria)\n"
      ]
    },
    {
      "cell_type": "code",
      "execution_count": null,
      "metadata": {},
      "outputs": [],
      "source": [
        "# Filtragem dentro do DataFrame\n",
        "df_merge.head()\n"
      ]
    },
    {
      "cell_type": "code",
      "execution_count": null,
      "metadata": {},
      "outputs": [],
      "source": [
        "# Filtrar por coluna (Produto, Quantidade, Receita_Total)\n",
        "df_colunas_filtradas = df_merge.filter(items=[\"Produto\", \"Quantidade\", \"Receita_Total\"])\n"
      ]
    },
    {
      "cell_type": "code",
      "execution_count": null,
      "metadata": {},
      "outputs": [],
      "source": [
        "print(df_colunas_filtradas)\n"
      ]
    },
    {
      "cell_type": "code",
      "execution_count": null,
      "metadata": {},
      "outputs": [],
      "source": [
        "# Filtragem mais avançadas (Produto Teclado, quantidade > 10)\n",
        "df_query = df_merge.query('Produto == \"Teclado\" and Quantidade > 10')\n"
      ]
    },
    {
      "cell_type": "code",
      "execution_count": null,
      "metadata": {},
      "outputs": [],
      "source": [
        "print(df_query)\n"
      ]
    }
  ],
  "metadata": {
    "language_info": {
      "name": "python"
    }
  },
  "nbformat": 4,
  "nbformat_minor": 2
}
