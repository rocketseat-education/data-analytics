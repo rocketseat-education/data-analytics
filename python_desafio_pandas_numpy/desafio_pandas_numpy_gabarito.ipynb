{
  "cells": [
    {
      "cell_type": "markdown",
      "metadata": {},
      "source": [
        "# Desafio Pandas/NumPy: Delivery de Refeições — Gabarito\n",
        "\n",
        "Este notebook resolve o desafio usando os arquivos em `dados/`.\n",
        "\n",
        "Seções:\n",
        "- Importações e leitura\n",
        "- EDA (head, tail, info, describe)\n",
        "- Criação de coluna Receita_Item\n",
        "- Tratamento de ausentes (Quantidade média, drop de Preco_Unitario nulo)\n",
        "- Agregações por Item (Quantidade_total, Receita_Total)\n",
        "- Datas e receita por mês\n",
        "- Merge com cardápio e receita por Categoria\n",
        "- Filtros e queries\n",
        "- KPIs e percentis (NumPy)\n"
      ]
    },
    {
      "cell_type": "code",
      "execution_count": 1,
      "metadata": {},
      "outputs": [
        {
          "ename": "ModuleNotFoundError",
          "evalue": "No module named 'pandas'",
          "output_type": "error",
          "traceback": [
            "\u001b[31m---------------------------------------------------------------------------\u001b[39m",
            "\u001b[31mModuleNotFoundError\u001b[39m                       Traceback (most recent call last)",
            "\u001b[36mCell\u001b[39m\u001b[36m \u001b[39m\u001b[32mIn[1]\u001b[39m\u001b[32m, line 1\u001b[39m\n\u001b[32m----> \u001b[39m\u001b[32m1\u001b[39m \u001b[38;5;28;01mimport\u001b[39;00m\u001b[38;5;250m \u001b[39m\u001b[34;01mpandas\u001b[39;00m\u001b[38;5;250m \u001b[39m\u001b[38;5;28;01mas\u001b[39;00m\u001b[38;5;250m \u001b[39m\u001b[34;01mpd\u001b[39;00m\n\u001b[32m      2\u001b[39m \u001b[38;5;28;01mimport\u001b[39;00m\u001b[38;5;250m \u001b[39m\u001b[34;01mnumpy\u001b[39;00m\u001b[38;5;250m \u001b[39m\u001b[38;5;28;01mas\u001b[39;00m\u001b[38;5;250m \u001b[39m\u001b[34;01mnp\u001b[39;00m\n\u001b[32m      4\u001b[39m pd.options.display.float_format = \u001b[33m'\u001b[39m\u001b[38;5;132;01m{:,.2f}\u001b[39;00m\u001b[33m'\u001b[39m.format\n",
            "\u001b[31mModuleNotFoundError\u001b[39m: No module named 'pandas'"
          ]
        }
      ],
      "source": [
        "import pandas as pd\n",
        "import numpy as np\n",
        "\n",
        "pd.options.display.float_format = '{:,.2f}'.format\n",
        "\n",
        "pedidos_path = 'dados/pedidos.csv'\n",
        "cardapio_path = 'dados/cardapio.csv'\n",
        "\n",
        "# Leitura\n",
        "df_pedidos = pd.read_csv(pedidos_path)\n",
        "df_cardapio = pd.read_csv(cardapio_path)\n",
        "\n",
        "df_pedidos.head()\n"
      ]
    },
    {
      "cell_type": "code",
      "execution_count": null,
      "metadata": {},
      "outputs": [],
      "source": [
        "# EDA\n",
        "df_pedidos.tail()\n"
      ]
    },
    {
      "cell_type": "code",
      "execution_count": null,
      "metadata": {},
      "outputs": [],
      "source": [
        "df_pedidos.info()\n"
      ]
    },
    {
      "cell_type": "code",
      "execution_count": null,
      "metadata": {},
      "outputs": [],
      "source": [
        "df_pedidos.describe(include='all')\n"
      ]
    },
    {
      "cell_type": "code",
      "execution_count": null,
      "metadata": {},
      "outputs": [],
      "source": [
        "# Receita_Item\n",
        "df_pedidos['Receita_Item'] = df_pedidos['Quantidade'] * df_pedidos['Preco_Unitario']\n",
        "df_pedidos.head()\n"
      ]
    },
    {
      "cell_type": "code",
      "execution_count": null,
      "metadata": {},
      "outputs": [],
      "source": [
        "# Tratamento de ausentes\n",
        "media_qtd = df_pedidos['Quantidade'].mean()\n",
        "df_pedidos['Quantidade'] = df_pedidos['Quantidade'].fillna(media_qtd)\n",
        "\n",
        "df_limpo = df_pedidos.dropna(subset=['Preco_Unitario']).copy()\n",
        "df_limpo.info()\n"
      ]
    },
    {
      "cell_type": "code",
      "execution_count": null,
      "metadata": {},
      "outputs": [],
      "source": [
        "# Agregações por Item\n",
        "agg_item = df_limpo.groupby('Item').agg(\n",
        "    Quantidade_total=('Quantidade','sum'),\n",
        "    Receita_Total=('Receita_Item','sum')\n",
        ").reset_index()\n",
        "agg_item.sort_values('Quantidade_total', ascending=False).head(5)\n"
      ]
    },
    {
      "cell_type": "code",
      "execution_count": null,
      "metadata": {},
      "outputs": [],
      "source": [
        "# Top 5 por receita\n",
        "agg_item.sort_values('Receita_Total', ascending=False).head(5)\n"
      ]
    },
    {
      "cell_type": "code",
      "execution_count": null,
      "metadata": {},
      "outputs": [],
      "source": [
        "# Datas e receita por mês\n",
        "df_limpo['Data'] = pd.to_datetime(df_limpo['Data'])\n",
        "df_limpo['AnoMes'] = df_limpo['Data'].dt.to_period('M').astype(str)\n",
        "receita_mes = df_limpo.groupby('AnoMes')['Receita_Item'].sum().reset_index()\n",
        "receita_mes\n"
      ]
    },
    {
      "cell_type": "code",
      "execution_count": null,
      "metadata": {},
      "outputs": [],
      "source": [
        "# Merge com cardápio e receita por categoria\n",
        "df_merge = pd.merge(df_limpo, df_cardapio, on='Item', how='left')\n",
        "receita_categoria = df_merge.groupby('Categoria')['Receita_Item'].sum().reset_index().sort_values('Receita_Item', ascending=False)\n",
        "receita_categoria\n"
      ]
    },
    {
      "cell_type": "code",
      "execution_count": null,
      "metadata": {},
      "outputs": [],
      "source": [
        "# Filtros e queries (ex.: Salgados com Quantidade > 10)\n",
        "filtrados = df_merge.query(\"Categoria == 'Salgados' and Quantidade > 10\")\n",
        "filtrados.head()\n"
      ]
    },
    {
      "cell_type": "code",
      "execution_count": null,
      "metadata": {},
      "outputs": [],
      "source": [
        "# KPIs e NumPy\n",
        "receita_total = df_limpo['Receita_Item'].sum()\n",
        "num_pedidos = df_limpo['ID_Pedido'].nunique()\n",
        "itens_totais = df_limpo['Quantidade'].sum()\n",
        "ticket_medio = receita_total / num_pedidos if num_pedidos else 0\n",
        "\n",
        "p25_preco, p50_preco, p75_preco = np.percentile(df_limpo['Preco_Unitario'], [25,50,75])\n",
        "p25_qtd, p50_qtd, p75_qtd = np.percentile(df_limpo['Quantidade'], [25,50,75])\n",
        "\n",
        "print(f\"Receita Total: R$ {receita_total:.2f}\")\n",
        "print(f\"Pedidos únicos: {num_pedidos}\")\n",
        "print(f\"Itens totais vendidos: {itens_totais:.0f}\")\n",
        "print(f\"Ticket médio: R$ {ticket_medio:.2f}\")\n",
        "print(f\"Percentis Preco_Unitario: 25%={p25_preco:.2f}, 50%={p50_preco:.2f}, 75%={p75_preco:.2f}\")\n",
        "print(f\"Percentis Quantidade: 25%={p25_qtd:.2f}, 50%={p50_qtd:.2f}, 75%={p75_qtd:.2f}\")\n"
      ]
    }
  ],
  "metadata": {
    "kernelspec": {
      "display_name": "Python 3",
      "language": "python",
      "name": "python3"
    },
    "language_info": {
      "codemirror_mode": {
        "name": "ipython",
        "version": 3
      },
      "file_extension": ".py",
      "mimetype": "text/x-python",
      "name": "python",
      "nbconvert_exporter": "python",
      "pygments_lexer": "ipython3",
      "version": "3.11.0"
    }
  },
  "nbformat": 4,
  "nbformat_minor": 2
}
