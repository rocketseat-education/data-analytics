{
  "cells": [
    {
      "cell_type": "markdown",
      "metadata": {},
      "source": [
        "# Lista de Compras — Gabarito\n",
        "\n",
        "Este notebook implementa uma Lista de Compras, com menu interativo e funções básicas.\n"
      ]
    },
    {
      "cell_type": "code",
      "execution_count": 1,
      "metadata": {},
      "outputs": [],
      "source": [
        "itens = []\n",
        "\n"
      ]
    },
    {
      "cell_type": "code",
      "execution_count": 2,
      "metadata": {},
      "outputs": [],
      "source": [
        "def adicionar_item(itens, nome, quantidade):\n",
        "    if not nome:\n",
        "        print(\"Nome não pode ser vazio.\")\n",
        "        return\n",
        "    try:\n",
        "        quantidade = int(quantidade)\n",
        "    except ValueError:\n",
        "        print(\"Quantidade deve ser inteiro.\")\n",
        "        return\n",
        "    if quantidade <= 0:\n",
        "        print(\"Quantidade deve ser maior que zero.\")\n",
        "        return\n",
        "    itens.append({\"nome\": nome, \"quantidade\": quantidade, \"comprado\": False})\n",
        "    print(f\"Item '{nome}' adicionado.\")\n",
        "\n",
        "\n",
        "def listar_itens(itens):\n",
        "    if not itens:\n",
        "        print(\"Nenhum item cadastrado.\")\n",
        "        return\n",
        "    print(\"\\nLista de Compras:\")\n",
        "    for i, item in enumerate(itens):\n",
        "        flag = \"[X]\" if item[\"comprado\"] else \"[ ]\"\n",
        "        print(f\"{i+1}. {flag} {item['nome']} (qtd: {item['quantidade']})\")\n",
        "\n",
        "\n",
        "def marcar_comprado(itens, indice):\n",
        "    if indice < 0 or indice >= len(itens):\n",
        "        print(\"Índice inválido.\")\n",
        "        return\n",
        "    itens[indice][\"comprado\"] = True\n",
        "    print(f\"Item '{itens[indice]['nome']}' marcado como comprado.\")\n",
        "\n",
        "\n",
        "def remover_item(itens, indice):\n",
        "    if indice < 0 or indice >= len(itens):\n",
        "        print(\"Índice inválido.\")\n",
        "        return\n",
        "    removido = itens.pop(indice)\n",
        "    print(f\"Item '{removido['nome']}' removido.\")\n"
      ]
    },
    {
      "cell_type": "code",
      "execution_count": 3,
      "metadata": {},
      "outputs": [],
      "source": [
        "def main():\n",
        "    print(\"Bem-vindo à Lista de Compras.\")\n",
        "    while True:\n",
        "        print(\"\\nMenu:\")\n",
        "        print(\"1. Adicionar item\")\n",
        "        print(\"2. Listar itens\")\n",
        "        print(\"3. Marcar item como comprado\")\n",
        "        print(\"4. Remover item\")\n",
        "        print(\"5. Sair\")\n",
        "        opc = input(\"Escolha: \")\n",
        "\n",
        "        if opc == '1':\n",
        "            nome = input(\"Nome do item: \")\n",
        "            quantidade = input(\"Quantidade: \")\n",
        "            adicionar_item(itens, nome, quantidade)\n",
        "        elif opc == '2':\n",
        "            listar_itens(itens)\n",
        "        elif opc == '3':\n",
        "            listar_itens(itens)\n",
        "            try:\n",
        "                idx = int(input(\"Número do item para marcar como comprado: \")) - 1\n",
        "                marcar_comprado(itens, idx)\n",
        "            except ValueError:\n",
        "                print(\"Entrada inválida. Digite um número.\")\n",
        "        elif opc == '4':\n",
        "            listar_itens(itens)\n",
        "            try:\n",
        "                idx = int(input(\"Número do item para remover: \")) - 1\n",
        "                remover_item(itens, idx)\n",
        "            except ValueError:\n",
        "                print(\"Entrada inválida. Digite um número.\")\n",
        "        elif opc == '5':\n",
        "            print(\"Saindo. Até breve!\")\n",
        "            break\n",
        "        else:\n",
        "            print(\"Opção inválida. Tente novamente.\")\n"
      ]
    },
    {
      "cell_type": "code",
      "execution_count": null,
      "metadata": {},
      "outputs": [],
      "source": [
        "main()"
      ]
    }
  ],
  "metadata": {
    "kernelspec": {
      "display_name": "Python 3",
      "language": "python",
      "name": "python3"
    },
    "language_info": {
      "codemirror_mode": {
        "name": "ipython",
        "version": 3
      },
      "file_extension": ".py",
      "mimetype": "text/x-python",
      "name": "python",
      "nbconvert_exporter": "python",
      "pygments_lexer": "ipython3",
      "version": "3.11.0"
    }
  },
  "nbformat": 4,
  "nbformat_minor": 2
}
