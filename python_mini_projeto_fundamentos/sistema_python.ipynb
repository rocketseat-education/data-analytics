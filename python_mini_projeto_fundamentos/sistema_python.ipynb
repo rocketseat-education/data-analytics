{
 "cells": [
  {
   "cell_type": "code",
   "execution_count": null,
   "id": "eae65166",
   "metadata": {},
   "outputs": [],
   "source": [
    "def main():\n",
    "    print(\"Bem vindo ao Sistema de Gerenciamento de Tarefas.\")\n",
    "    while True:\n",
    "        print(\"\\nMenu:\")\n",
    "        print(\"1. Adicionar Tarefa\")\n",
    "        print(\"2. Visualizar Tarefas\")\n",
    "        print(\"3. Marcar Tarefa como Concluída\")\n",
    "        print(\"4. Remover Tarefa\")\n",
    "        print(\"5. Sair\")\n",
    "\n",
    "        escolha = input(\"Digite o número que corresponde a opção desejada: \")\n",
    "\n",
    "        if escolha == '1':\n",
    "            print(\"Funcionalidade escolhida foi 'Adicionar Tarefa' \")\n",
    "        elif escolha == '2':\n",
    "            print(\"Funcionalidade escolhida foi 'Visualizar Tarefas'\")\n",
    "        elif escolha == '3':\n",
    "            print(\"Funcionalidade escolhida foi 'Marcar Tarefa como concluída'\")\n",
    "        elif escolha == '4':\n",
    "            print(\"Funcionalidade escolhida foi 'Remover Tarefa'\")\n",
    "        elif escolha == '5':\n",
    "            print(\"Saindo do Sistema! Até breve!\")\n",
    "            break\n",
    "        else:\n",
    "            print(\"Opção inválida! Por favor, tente novamente\")\n",
    "\n"
   ]
  },
  {
   "cell_type": "code",
   "execution_count": null,
   "id": "b8f45eac",
   "metadata": {},
   "outputs": [],
   "source": [
    "main()"
   ]
  }
 ],
 "metadata": {
  "language_info": {
   "name": "python"
  }
 },
 "nbformat": 4,
 "nbformat_minor": 5
}
