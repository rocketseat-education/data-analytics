{
 "cells": [
  {
   "cell_type": "code",
   "execution_count": null,
   "id": "eae65166",
   "metadata": {},
   "outputs": [],
   "source": [
    "tarefas = []\n",
    "\n",
    "\n",
    "def main():\n",
    "    print(\"Bem vindo ao Sistema de Gerenciamento de Tarefas.\")\n",
    "    while True:\n",
    "        print(\"\\nMenu:\")\n",
    "        print(\"1. Adicionar Tarefa\")\n",
    "        print(\"2. Visualizar Tarefas\")\n",
    "        print(\"3. Marcar Tarefa como Concluída\")\n",
    "        print(\"4. Remover Tarefa\")\n",
    "        print(\"5. Sair\")\n",
    "\n",
    "        escolha = input(\"Digite o número que corresponde a opção desejada: \")\n",
    "\n",
    "        if escolha == '1':\n",
    "            descricao = input(\"Digite a descrição da tarefa: \")\n",
    "            adicionar_tarefa(descricao)\n",
    "        elif escolha == '2':\n",
    "            visualizar_tarefas()\n",
    "        elif escolha == '3':\n",
    "            visualizar_tarefas()\n",
    "            try:\n",
    "                indice = int(input(\"Digite o número da tarefa que você deseja marcar como concluída: \")) - 1\n",
    "                marcar_concluida(indice)\n",
    "            except ValueError:\n",
    "                print(\"Entrada inválida! Por favor digite um número: \")\n",
    "        elif escolha == '4':\n",
    "            print(\"Funcionalidade escolhida foi 'Remover Tarefa'\")\n",
    "        elif escolha == '5':\n",
    "            print(\"Saindo do Sistema! Até breve!\")\n",
    "            break\n",
    "        else:\n",
    "            print(\"Opção inválida! Por favor, tente novamente\")\n",
    "\n",
    "\n",
    "def adicionar_tarefa(descricao):\n",
    "    tarefas.append({\"descricao\": descricao, \"concluida\": False})\n",
    "    print(f\"Tarefa '{descricao}' adicionada com sucesso!\")\n",
    "\n",
    "\n",
    "def visualizar_tarefas():\n",
    "    if not tarefas:\n",
    "        print(\"Nenhuma tarefa foi encontrada!\")\n",
    "        return\n",
    "    print(\"\\nLista de Tarefas:\")\n",
    "    for i, tarefa in enumerate(tarefas):\n",
    "        status = \"[X]\" if tarefa[\"concluida\"] else \"[ ]\"\n",
    "        print(f\"{i + 1}. {status} {tarefa['descricao']}\")\n",
    "\n",
    "\n",
    "def marcar_concluida(indice):\n",
    "    if 0 <= indice < len(tarefas):\n",
    "        tarefas[indice][\"concluida\"] = True\n",
    "        print(f\"Tarefa '{tarefas[indice]['descricao']}' foi marcada como concluída!\")\n",
    "    else:\n",
    "        print(\"Índice de tarefa inválido!\")\n",
    "\n"
   ]
  },
  {
   "cell_type": "code",
   "execution_count": null,
   "id": "b8f45eac",
   "metadata": {},
   "outputs": [],
   "source": [
    "main()"
   ]
  }
 ],
 "metadata": {
  "language_info": {
   "name": "python"
  }
 },
 "nbformat": 4,
 "nbformat_minor": 5
}
